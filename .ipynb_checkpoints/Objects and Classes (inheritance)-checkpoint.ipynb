{
 "cells": [
  {
   "cell_type": "code",
   "execution_count": null,
   "id": "c779f191",
   "metadata": {},
   "outputs": [],
   "source": [
    "## Structure of classes and objects"
   ]
  },
  {
   "cell_type": "code",
   "execution_count": null,
   "id": "6473f3a6",
   "metadata": {},
   "outputs": [],
   "source": [
    "class ClassName:\n",
    "    # Class attributes (shared by all instances)\n",
    "    class_attribute = value"
   ]
  },
  {
   "cell_type": "code",
   "execution_count": null,
   "id": "a6320e62",
   "metadata": {},
   "outputs": [],
   "source": [
    "class ClassName:\n",
    "   \n",
    "    class_attribute = value\n",
    "    \n",
    "    # Constructor method (initialize instance attributes)\n",
    "    def __init__(self, attribute1, attribute2, ...):\n",
    "        pass\n",
    "       "
   ]
  },
  {
   "cell_type": "code",
   "execution_count": null,
   "id": "ab806f11",
   "metadata": {},
   "outputs": [],
   "source": [
    "class ClassName:\n",
    "   \n",
    "    class_attribute = value\n",
    "  \n",
    "    def __init__(self, attribute1, attribute2, ...):\n",
    "        self.attribute1 = attribute1\n",
    "        self.attribute2 = attribute2"
   ]
  },
  {
   "cell_type": "code",
   "execution_count": null,
   "id": "5b177e2a",
   "metadata": {},
   "outputs": [],
   "source": [
    "Creating objects (Instances)\n",
    "\n",
    "object1 = ClassName(value1, value2, ...)\n",
    "object2 = ClassName(value1, value2, ...)"
   ]
  },
  {
   "cell_type": "code",
   "execution_count": null,
   "id": "a401b9f4",
   "metadata": {},
   "outputs": [],
   "source": [
    "# Calling methods on objects\n",
    "#  Using dot notation\n",
    "result1 = object1.method1(param1_value, param2_value, ...)\n",
    "result2 = object2.method2(param1_value, param2_value, ...)\n",
    "\n",
    "# Assigning object methods to variables\n",
    "method_reference = object1.method1  # Assign the method to a variable\n",
    "result3 = method_reference(param1_value, param2_value, ...)\n",
    "\n",
    "# Accessing object attributes using dot notation\n",
    "attribute_value = object1.attribute1\n",
    "\n",
    "# Accessing class attributes (shared by all instances)\n",
    "class_attrb_value = ClassName.class_attribute"
   ]
  },
  {
   "cell_type": "markdown",
   "id": "62c2eff4",
   "metadata": {},
   "source": [
    "## PRACTICE"
   ]
  },
  {
   "cell_type": "code",
   "execution_count": 30,
   "id": "67b04147",
   "metadata": {},
   "outputs": [
    {
     "name": "stdout",
     "output_type": "stream",
     "text": [
      "Patient: Kaylia, Age: 45, Gender:F\n",
      "Medical History: ['Diabetes', 'Hypertension', 'Thyroid']\n",
      "******************************\n",
      "Patient: Kelvin, Age: 56, Gender:M\n",
      "Medical History: ['Diabetes', 'Pneumonia']\n",
      "******************************\n",
      "Patient: Kevith, Age: 75, Gender:M\n",
      "Medical History: ['Diabetes', 'Hypertension', 'Arthritis']\n",
      "******************************\n",
      "Patient: Kel, Age: 75, Gender:M\n",
      "Medical History: ['Diabetes', 'Hypertension', 'Arthritis']\n",
      "******************************\n"
     ]
    }
   ],
   "source": [
    "# create a class to store patient details and modify the medical history\n",
    "class patient:\n",
    "    def __init__(self,Name,Age,Gender,Medical_history):\n",
    "        self.Name = Name\n",
    "        self.Age = Age\n",
    "        self.Gender=Gender\n",
    "        self.Medical_history = Medical_history\n",
    "        \n",
    "    def add_Medical_history(self,addn_record):\n",
    "        self.Medical_history.append(addn_record)\n",
    "        \n",
    "    def display_patient_data(self):\n",
    "          print(f\"Patient: {self.Name}, Age: {self.Age}, Gender:{self.Gender}\")\n",
    "          print(\"Medical History:\", self.Medical_history)\n",
    "          print('*'*30)\n",
    "        \n",
    "# create an object of class patient\n",
    "patient1 = patient(\"Kaylia\", 45, \"F\", [\"Diabetes\", \"Hypertension\"])\n",
    "patient1.add_Medical_history('Thyroid')\n",
    "patient1.display_patient_data()\n",
    "\n",
    "\n",
    "patient2 = patient(\"Kelvin\", 56, \"M\", [\"Diabetes\"])\n",
    "patient2.add_Medical_history('Pneumonia')\n",
    "patient2.display_patient_data()\n",
    "\n",
    "patient3 = patient(\"Kevith\", 75, \"M\", [\"Diabetes\", \"Hypertension\"])\n",
    "patient3.add_Medical_history('Arthritis')\n",
    "patient3.display_patient_data()\n",
    "\n",
    "patient4 = patient(\"Kel\", 75, \"M\", [\"Diabetes\", \"Hypertension\"])\n",
    "patient4.add_Medical_history('Arthritis')\n",
    "patient4.display_patient_data()\n"
   ]
  },
  {
   "cell_type": "code",
   "execution_count": 31,
   "id": "3f79b39b",
   "metadata": {},
   "outputs": [],
   "source": [
    "# Create a class by name Hospital to store multiple patient details and modify them by retrieving or addingsome patients\n",
    "\n",
    "class Hospital:\n",
    "    def __init__(self):\n",
    "        self.patients=[]\n",
    "        \n",
    "    def add_patient(self,patient):\n",
    "        self.patients.append(patient)\n",
    "        \n",
    "    def remove_patient(self,Name):\n",
    "        self.patients=[p for p in self.patients if p.name.lower() != Name.lower()]\n",
    "        \n",
    "    def display_all_patients(self):\n",
    "        for patient in self.patients:\n",
    "            patient.display_patient_data()"
   ]
  },
  {
   "cell_type": "code",
   "execution_count": 29,
   "id": "eb371aad",
   "metadata": {},
   "outputs": [
    {
     "name": "stdout",
     "output_type": "stream",
     "text": [
      "Patient: Kaylia, Age: 45, Gender:F\n",
      "Medical History: ['Diabetes', 'Hypertension', 'Thyroid']\n",
      "Patient: Kelvin, Age: 56, Gender:M\n",
      "Medical History: ['Diabetes', 'Pneumonia']\n",
      "Patient: Kevith, Age: 75, Gender:M\n",
      "Medical History: ['Diabetes', 'Hypertension', 'Arthritis']\n"
     ]
    }
   ],
   "source": [
    "# from the Hospital class create a hospital object and add patients\n",
    "hospital= Hospital()\n",
    "hospital.add_patient(patient1)\n",
    "hospital.add_patient(patient2)\n",
    "hospital.add_patient(patient3)\n",
    "hospital.display_all_patients()"
   ]
  },
  {
   "cell_type": "markdown",
   "id": "03b70c54",
   "metadata": {},
   "source": [
    "## Inheritance\n",
    "-Make the code more useable,readable and concise\n"
   ]
  },
  {
   "cell_type": "code",
   "execution_count": null,
   "id": "3d49db2c",
   "metadata": {},
   "outputs": [],
   "source": []
  },
  {
   "cell_type": "code",
   "execution_count": 25,
   "id": "61d54bdf",
   "metadata": {},
   "outputs": [
    {
     "name": "stdout",
     "output_type": "stream",
     "text": [
      "jithin,21/07/2005,M\n",
      "122210601150\n"
     ]
    }
   ],
   "source": [
    "class Human:\n",
    "      def __init__(self,Name,Age,Gender):\n",
    "            self.name=Name\n",
    "            self.age=Age\n",
    "            self.gender=Gender\n",
    "            \n",
    "      def identify(self):\n",
    "        print(f'{self.name},{self.age},{self.gender}')\n",
    "    \n",
    "class student(Human):\n",
    "      def __init__(self,Name,Age,Gender,student_ID):\n",
    "        super().__init__(Name,Age,Gender)\n",
    "        self.student_id=student_ID\n",
    "      def identify(self):\n",
    "        super().identify()\n",
    "        print(self.student_id)\n",
    "\n",
    "student1=student('jithin','21/07/2005','M',\"122210601150\")\n",
    "student1.identify()\n",
    "        "
   ]
  },
  {
   "cell_type": "code",
   "execution_count": 28,
   "id": "f163258f",
   "metadata": {},
   "outputs": [
    {
     "name": "stdout",
     "output_type": "stream",
     "text": [
      "meow\n"
     ]
    }
   ],
   "source": [
    "class Animal:\n",
    "    def __init__(self,Name,Age):\n",
    "        self.name=Name\n",
    "        self.age=Age\n",
    "\n",
    "class Dog:\n",
    "    def __init__(self):\n",
    "        print ('bark')\n",
    "        \n",
    "class cat(Dog):\n",
    "    def __init__(self):\n",
    "        print('meow')\n",
    "        \n",
    "cat=cat()\n",
    "\n",
    "    \n",
    "        "
   ]
  },
  {
   "cell_type": "code",
   "execution_count": null,
   "id": "36065345",
   "metadata": {},
   "outputs": [],
   "source": []
  }
 ],
 "metadata": {
  "kernelspec": {
   "display_name": "Python 3 (ipykernel)",
   "language": "python",
   "name": "python3"
  },
  "language_info": {
   "codemirror_mode": {
    "name": "ipython",
    "version": 3
   },
   "file_extension": ".py",
   "mimetype": "text/x-python",
   "name": "python",
   "nbconvert_exporter": "python",
   "pygments_lexer": "ipython3",
   "version": "3.9.13"
  }
 },
 "nbformat": 4,
 "nbformat_minor": 5
}
