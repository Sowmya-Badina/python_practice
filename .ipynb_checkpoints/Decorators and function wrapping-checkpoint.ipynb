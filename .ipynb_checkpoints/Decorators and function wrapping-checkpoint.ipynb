{
 "cells": [
  {
   "cell_type": "markdown",
   "id": "f1d24832",
   "metadata": {},
   "source": [
    "## Function Wrapping\n",
    "- to modify the function\n",
    "-To combine two or more functions to cretae a new function"
   ]
  },
  {
   "cell_type": "code",
   "execution_count": 7,
   "id": "3db0954c",
   "metadata": {},
   "outputs": [
    {
     "name": "stdout",
     "output_type": "stream",
     "text": [
      "15\n"
     ]
    }
   ],
   "source": [
    "def add_five(x):\n",
    "    return x + 5\n",
    "\n",
    "def multiply_by_two(x):\n",
    "     return x * 2\n",
    "\n",
    "def compose(f1, f2):\n",
    "       return lambda x: f1(f2(x))\n",
    "\n",
    "my_funcn = compose(add_five, multiply_by_two)\n",
    "\n",
    "print(my_funcn(5))"
   ]
  },
  {
   "cell_type": "code",
   "execution_count": 6,
   "id": "ac9bd7ab",
   "metadata": {},
   "outputs": [
    {
     "name": "stdout",
     "output_type": "stream",
     "text": [
      "0.0\n",
      "100.0\n"
     ]
    }
   ],
   "source": [
    "# To convert fahrenheit and celsius\n",
    "def subtract_32(x):\n",
    "     return x - 32\n",
    "\n",
    "def multiply_5_9(x):\n",
    "    return x * 5/9\n",
    "\n",
    "def compose(funcn1,funcn2):\n",
    "      return lambda x: funcn1(funcn2(x))\n",
    "\n",
    "f_to_c = compose(multiply_5_9, subtract_32)\n",
    "\n",
    "print(f_to_c(32)) \n",
    "print(f_to_c(212))"
   ]
  },
  {
   "cell_type": "markdown",
   "id": "f18b2d6a",
   "metadata": {},
   "source": [
    "## Decorators\n",
    "\n",
    "- A function that extends the behaviour of another function without modifying the base code\n",
    "\n",
    "- passes the base function as an argument to the decorator\n",
    "\n",
    "# Types\n",
    "- decorators in classes\n",
    "- property decorators\n",
    "- Method decorators\n"
   ]
  },
  {
   "cell_type": "code",
   "execution_count": 18,
   "id": "611e5a4d",
   "metadata": {},
   "outputs": [
    {
     "name": "stdout",
     "output_type": "stream",
     "text": [
      "Enter your Name: mahi\n",
      " Hello mahi, Welcome to your Health portal\n",
      "Here is your Health Report\n"
     ]
    }
   ],
   "source": [
    "def add_greetings(func):\n",
    "    def wrapper(patient_name):\n",
    "        print(f' Hello {patient_name}, Welcome to your Health portal')\n",
    "        func(patient_name)\n",
    "    return wrapper\n",
    "\n",
    "@ add_greetings\n",
    "def display_health_report(patient_name):\n",
    "    print('Here is your Health Report')\n",
    "              \n",
    "patient_name=input('Enter your Name: ')\n",
    "              \n",
    "\n",
    "display_health_report(patient_name)             \n"
   ]
  },
  {
   "cell_type": "code",
   "execution_count": 42,
   "id": "8cb308ec",
   "metadata": {},
   "outputs": [
    {
     "name": "stdout",
     "output_type": "stream",
     "text": [
      "Enter your Name: Prasanth\n",
      "Enter your role: doctor\n",
      "🧑‍⚕️ Welcome Dr. Prasanth, Access granted..✅\n",
      "Viewing Sensitive info..📃\n"
     ]
    }
   ],
   "source": [
    "valid_doctors = ['niya', 'Ravi','Keith', 'Shreshta','Prasanth']\n",
    "\n",
    "def check_valid_doctor(func):\n",
    "    def wrapper(name,role):\n",
    "        if role.lower()== 'doctor':\n",
    "           \n",
    "           if name in valid_doctors:\n",
    "                print(f'🧑‍⚕️ Welcome Dr. {name}, Access granted..✅')\n",
    "                func(name,role)\n",
    "           else:\n",
    "                print(' ❌ access Denied.Doctor not recognized.')\n",
    "        else:\n",
    "            print('Access Denied, only doctors can view this info')\n",
    "       \n",
    "    return wrapper\n",
    "        \n",
    "\n",
    "\n",
    "@ check_valid_doctor\n",
    "def View_sensitive_data(name, role):\n",
    "    print('Viewing Sensitive info..📃')\n",
    "    \n",
    "name=input('Enter your Name: ')\n",
    "role=input('Enter your role: ')\n",
    "\n",
    "View_sensitive_data(name,role)"
   ]
  },
  {
   "cell_type": "code",
   "execution_count": 58,
   "id": "53eb4bcc",
   "metadata": {},
   "outputs": [
    {
     "name": "stdout",
     "output_type": "stream",
     "text": [
      "Enter your Name : ss\n",
      "logging\n",
      "Hello,ss\n"
     ]
    }
   ],
   "source": [
    "# Decorator with classes- decorating instance methods\n",
    "def logging(func):\n",
    "    def wrapper(self,name):\n",
    "        print(\"logging\")\n",
    "        func(self,name)\n",
    "    return wrapper\n",
    "\n",
    "class User:\n",
    "    @ logging\n",
    "    def Say_hello(self,name):\n",
    "        print(f'Hello,{name}')\n",
    "        \n",
    "name=input('Enter your Name : ')\n",
    "\n",
    "User1=User()\n",
    "\n",
    "User1.Say_hello(name)"
   ]
  },
  {
   "cell_type": "code",
   "execution_count": null,
   "id": "a28d63ce",
   "metadata": {},
   "outputs": [],
   "source": []
  },
  {
   "cell_type": "code",
   "execution_count": null,
   "id": "1d13f82a",
   "metadata": {},
   "outputs": [],
   "source": []
  },
  {
   "cell_type": "code",
   "execution_count": null,
   "id": "51247716",
   "metadata": {},
   "outputs": [],
   "source": []
  }
 ],
 "metadata": {
  "kernelspec": {
   "display_name": "Python 3 (ipykernel)",
   "language": "python",
   "name": "python3"
  },
  "language_info": {
   "codemirror_mode": {
    "name": "ipython",
    "version": 3
   },
   "file_extension": ".py",
   "mimetype": "text/x-python",
   "name": "python",
   "nbconvert_exporter": "python",
   "pygments_lexer": "ipython3",
   "version": "3.9.13"
  }
 },
 "nbformat": 4,
 "nbformat_minor": 5
}
