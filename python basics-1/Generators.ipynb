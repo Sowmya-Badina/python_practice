{
 "cells": [
  {
   "cell_type": "markdown",
   "id": "d10bcd4f",
   "metadata": {},
   "source": [
    "## Generators\n",
    "- functions that allows you to create an interable seq of values\n",
    "- functions become generators when they use the keyword 'yield'\n",
    "- create values one by one\n",
    "\n"
   ]
  },
  {
   "cell_type": "code",
   "execution_count": 10,
   "id": "a8d44446",
   "metadata": {},
   "outputs": [
    {
     "name": "stdout",
     "output_type": "stream",
     "text": [
      "0\n",
      "1\n",
      "2\n"
     ]
    }
   ],
   "source": [
    "def my_gen():\n",
    "    for i in range(10):\n",
    "        yield i\n",
    "        \n",
    "gen=my_gen()\n",
    "\n",
    "print(next(gen))\n",
    "print(next(gen))\n",
    "print(next(gen))"
   ]
  },
  {
   "cell_type": "code",
   "execution_count": 13,
   "id": "af703dbc",
   "metadata": {},
   "outputs": [
    {
     "name": "stdout",
     "output_type": "stream",
     "text": [
      "0\n"
     ]
    }
   ],
   "source": [
    "def even_numbers(n):\n",
    "    for i in range (0,n+1):\n",
    "        if i%2 ==0:\n",
    "            yield i\n",
    "            \n",
    "gen=even_numbers(20)\n",
    "\n",
    "print(next(gen))"
   ]
  },
  {
   "cell_type": "code",
   "execution_count": 24,
   "id": "6fde3f59",
   "metadata": {},
   "outputs": [
    {
     "name": "stdout",
     "output_type": "stream",
     "text": [
      "h\n"
     ]
    }
   ],
   "source": [
    "def extract_char(text):\n",
    "    for char in text:\n",
    "        yield char\n",
    "        \n",
    "gen=extract_char('hello')\n",
    "\n",
    "print(next(gen))\n"
   ]
  },
  {
   "cell_type": "code",
   "execution_count": 27,
   "id": "2bca3c1e",
   "metadata": {},
   "outputs": [],
   "source": [
    "def running_total(nums):\n",
    "    total = 0\n",
    "    for num in nums:\n",
    "        total += num\n",
    "        yield total\n"
   ]
  },
  {
   "cell_type": "code",
   "execution_count": 28,
   "id": "e7278efc",
   "metadata": {},
   "outputs": [
    {
     "name": "stdout",
     "output_type": "stream",
     "text": [
      "1\n",
      "3\n",
      "6\n",
      "10\n"
     ]
    }
   ],
   "source": [
    "for val in running_total([1, 2, 3, 4]):\n",
    "    print(val)"
   ]
  },
  {
   "cell_type": "code",
   "execution_count": 34,
   "id": "1f10b31e",
   "metadata": {},
   "outputs": [
    {
     "name": "stdout",
     "output_type": "stream",
     "text": [
      "2\n",
      "4\n"
     ]
    }
   ],
   "source": [
    "# skip nth element\n",
    "def skip_elements(lst,n):\n",
    "    for i in range(len(lst)):\n",
    "        if (i +1)% n != 0:\n",
    "            yield lst[i]\n",
    "            \n",
    "gen= skip_elements([2,3,4,5,6,7,8,9],2)\n",
    "print(next(gen))\n",
    "print(next(gen))"
   ]
  },
  {
   "cell_type": "code",
   "execution_count": 18,
   "id": "6c78f0c0",
   "metadata": {},
   "outputs": [
    {
     "name": "stdout",
     "output_type": "stream",
     "text": [
      "[1, 2]\n",
      "[2, 3]\n",
      "[3, 4]\n",
      "[4, 5]\n"
     ]
    }
   ],
   "source": [
    "def sliding_window(lst, k):\n",
    "     if k > len(lst) or k <= 0:\n",
    "        return \n",
    "     for i in range(len(lst) - k + 1):\n",
    "        yield lst[i:i + k]\n",
    "        \n",
    "for window in sliding_window([1, 2, 3, 4, 5], 2):\n",
    "    print(window)"
   ]
  },
  {
   "cell_type": "code",
   "execution_count": 20,
   "id": "7d098677",
   "metadata": {},
   "outputs": [
    {
     "name": "stdout",
     "output_type": "stream",
     "text": [
      "Abnormal: 55\n",
      "Abnormal: 104\n",
      "Abnormal: 45\n",
      "Abnormal: 101\n"
     ]
    }
   ],
   "source": [
    "readings = [72, 55, 98, 104, 88, 45, 101]\n",
    "\n",
    "def abnormal_heart_rates(stream):\n",
    "    for rate in stream:\n",
    "        if rate < 60 or rate > 100:\n",
    "            yield rate\n",
    "            \n",
    "for r in abnormal_heart_rates(readings):\n",
    "    print(\"Abnormal:\", r)"
   ]
  },
  {
   "cell_type": "code",
   "execution_count": null,
   "id": "ef3acdde",
   "metadata": {},
   "outputs": [],
   "source": []
  },
  {
   "cell_type": "code",
   "execution_count": null,
   "id": "c7ddd265",
   "metadata": {},
   "outputs": [],
   "source": []
  },
  {
   "cell_type": "code",
   "execution_count": null,
   "id": "fdc1a412",
   "metadata": {},
   "outputs": [],
   "source": []
  },
  {
   "cell_type": "code",
   "execution_count": null,
   "id": "d436c126",
   "metadata": {},
   "outputs": [],
   "source": []
  }
 ],
 "metadata": {
  "kernelspec": {
   "display_name": "Python 3 (ipykernel)",
   "language": "python",
   "name": "python3"
  },
  "language_info": {
   "codemirror_mode": {
    "name": "ipython",
    "version": 3
   },
   "file_extension": ".py",
   "mimetype": "text/x-python",
   "name": "python",
   "nbconvert_exporter": "python",
   "pygments_lexer": "ipython3",
   "version": "3.9.13"
  }
 },
 "nbformat": 4,
 "nbformat_minor": 5
}
