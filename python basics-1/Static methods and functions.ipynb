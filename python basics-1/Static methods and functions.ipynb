{
 "cells": [
  {
   "cell_type": "markdown",
   "id": "f3b15847",
   "metadata": {},
   "source": [
    "## Static Methods\n",
    "- a method that belong to class rather than object from that class\n",
    "- Best for utility function that donot need access to class data"
   ]
  },
  {
   "cell_type": "code",
   "execution_count": 18,
   "id": "beb592d8",
   "metadata": {},
   "outputs": [
    {
     "name": "stdout",
     "output_type": "stream",
     "text": [
      "False\n"
     ]
    }
   ],
   "source": [
    "class Employee:\n",
    "\n",
    "   def __init__(self, name, position):\n",
    "       self.name=name\n",
    "       self.position=position\n",
    "    \n",
    "   def get_info(self):\n",
    "       return f'{self.name} ={self.position}'\n",
    "       \n",
    "   @staticmethod\n",
    "   def is_valid_position(position):\n",
    "    valid_positions=['Receptionist','Doctor','Nurse','Labtechnician']\n",
    "    return position in valid_positions\n",
    "\n",
    "print(Employee.is_valid_position('Astronaut'))\n"
   ]
  },
  {
   "cell_type": "markdown",
   "id": "fa2d09ec",
   "metadata": {},
   "source": [
    "## Instance methods\n",
    "Best for operations on instances of the class i.e objects"
   ]
  },
  {
   "cell_type": "code",
   "execution_count": 23,
   "id": "d2e03639",
   "metadata": {},
   "outputs": [
    {
     "name": "stdout",
     "output_type": "stream",
     "text": [
      "Radha=Receptionist\n",
      "Reshma=Doctor\n",
      "Rani=Labtechnician\n"
     ]
    }
   ],
   "source": [
    "class Employee:\n",
    "\n",
    "   def __init__(self, name, position):\n",
    "       self.name=name\n",
    "       self.position=position\n",
    "    \n",
    "   def get_info(self):\n",
    "       return f'{self.name}={self.position}'\n",
    "       \n",
    "   @staticmethod\n",
    "   def is_valid_position(position):\n",
    "    valid_positions=['Receptionist','Doctor','Nurse','Labtechnician']\n",
    "    return position in valid_positions\n",
    "\n",
    "employee1=Employee('Radha','Receptionist')\n",
    "employee2=Employee('Reshma','Doctor')\n",
    "employee3=Employee('Rani','Labtechnician')\n",
    "\n",
    "print(employee1.get_info())\n",
    "print(employee2.get_info())\n",
    "print(employee3.get_info())"
   ]
  },
  {
   "cell_type": "markdown",
   "id": "aba66ab2",
   "metadata": {},
   "source": [
    "## Functions"
   ]
  },
  {
   "cell_type": "code",
   "execution_count": 27,
   "id": "fb03c93c",
   "metadata": {},
   "outputs": [
    {
     "name": "stdout",
     "output_type": "stream",
     "text": [
      "[0, 1, 1, 2, 3]\n"
     ]
    }
   ],
   "source": [
    "# fibonacci series\n",
    "\n",
    "def fibonacci(n):\n",
    "    result=[]\n",
    "    a,b=0,1\n",
    "    for _ in range(n):\n",
    "        result.append(a)\n",
    "        a,b=b,a+b\n",
    "    return result\n",
    "\n",
    "print(fibonacci(5))"
   ]
  },
  {
   "cell_type": "code",
   "execution_count": 38,
   "id": "82084223",
   "metadata": {},
   "outputs": [
    {
     "name": "stdout",
     "output_type": "stream",
     "text": [
      "{'urgent': ['chest pain', 'sore throat'], 'mild': ['fever']}\n"
     ]
    }
   ],
   "source": [
    "# symptoms checker : mild or severe\n",
    "def  symptom_checker(symptoms):\n",
    "     serious=['chest pain','SOB','sore throat','unconsciousness']\n",
    "     \n",
    "     mild=['cold','cough','fever']\n",
    "    \n",
    "    \n",
    "     flagged = {\"urgent\": [], \"mild\": []}\n",
    "    \n",
    "     for s in symptoms:\n",
    "         s=s.lower()\n",
    "         if s in serious:\n",
    "            flagged[\"urgent\"].append(s)\n",
    "         elif s in mild:\n",
    "            flagged[\"mild\"].append(s)\n",
    "\n",
    "     return flagged\n",
    "\n",
    "# Example:\n",
    "print(symptom_checker([\"Chest Pain\", \"Fever\", \"Sore Throat\"]))"
   ]
  },
  {
   "cell_type": "code",
   "execution_count": 4,
   "id": "2c223ea8",
   "metadata": {},
   "outputs": [
    {
     "data": {
      "text/plain": [
       "'thousands'"
      ]
     },
     "execution_count": 4,
     "metadata": {},
     "output_type": "execute_result"
    }
   ],
   "source": [
    "# longest Word in a Sentence\n",
    "\n",
    "def longest_word(sentence):\n",
    "    words= sentence.split()\n",
    "    longest=''\n",
    "    \n",
    "    for word in words:\n",
    "        if len(word)> len (longest):\n",
    "            longest=word\n",
    "            \n",
    "    return longest\n",
    "\n",
    "longest_word('There are thousands of species in the class Animalia')"
   ]
  },
  {
   "cell_type": "code",
   "execution_count": 9,
   "id": "9bee63f1",
   "metadata": {},
   "outputs": [],
   "source": [
    "# remove duplicate elements from a list of integers\n",
    "\n",
    "list=[1,2,3,4,1,5,6,3,2]\n",
    "\n",
    "def duplicate_numbers(numbers):\n",
    "    duplicates=[]\n",
    "    for num in numbers:\n",
    "        if numbers.count (num)>1 and num not in duplicates:\n",
    "            duplicates.append(num)\n",
    "    return duplicates"
   ]
  },
  {
   "cell_type": "code",
   "execution_count": 10,
   "id": "00a32481",
   "metadata": {},
   "outputs": [
    {
     "data": {
      "text/plain": [
       "[1, 2, 3]"
      ]
     },
     "execution_count": 10,
     "metadata": {},
     "output_type": "execute_result"
    }
   ],
   "source": [
    "duplicate_numbers(list)"
   ]
  },
  {
   "cell_type": "code",
   "execution_count": 20,
   "id": "cb582832",
   "metadata": {},
   "outputs": [
    {
     "data": {
      "text/plain": [
       "[1, 2, 3]"
      ]
     },
     "execution_count": 20,
     "metadata": {},
     "output_type": "execute_result"
    }
   ],
   "source": [
    "num_1=[1,2,3,4,1,5,6,3,2]\n",
    "\n",
    "def duplicates_num(numbers):\n",
    "    counts={}\n",
    "    duplicates=[]\n",
    "    \n",
    "    for num in numbers:\n",
    "        if num in counts:\n",
    "            counts[num] +=1\n",
    "        else:\n",
    "            counts[num]=1\n",
    "            \n",
    "    for num in counts:\n",
    "        if counts[num]>1:\n",
    "            duplicates.append(num)\n",
    "            \n",
    "    return duplicates\n",
    "\n",
    "duplicates_num(num_1)"
   ]
  },
  {
   "cell_type": "code",
   "execution_count": 25,
   "id": "251f61e4",
   "metadata": {},
   "outputs": [
    {
     "name": "stdout",
     "output_type": "stream",
     "text": [
      "Duplicate keys: ['doctor']\n"
     ]
    }
   ],
   "source": [
    "# to check the duplicate keys before creating a dictionary\n",
    "\n",
    "pairs = [('doctor', 2), ('patient', 3), ('nurse', 3), ('doctor', 4)]\n",
    "\n",
    "once_keys=set()\n",
    "duplicate_keys= set()\n",
    "\n",
    "for key,value in pairs:\n",
    "    if key in once_keys:\n",
    "        duplicate_keys.add(key)\n",
    "    else:\n",
    "        once_keys.add(key)\n",
    "        \n",
    "print('Duplicate keys:',list(duplicate_keys))"
   ]
  },
  {
   "cell_type": "code",
   "execution_count": 29,
   "id": "c1faa697",
   "metadata": {},
   "outputs": [
    {
     "name": "stdout",
     "output_type": "stream",
     "text": [
      "[4, 6]\n"
     ]
    }
   ],
   "source": [
    "# to check the missing numbers in a given range\n",
    "def missing_numbers(numbers,n):\n",
    "    missing=[]\n",
    "    \n",
    "    for  i in range(1, n+1):\n",
    "        if i not in numbers:\n",
    "           missing.append(i)\n",
    "        \n",
    "    return missing\n",
    "\n",
    "\n",
    "print(missing_numbers([2, 3, 7, 1, 5], 7))        "
   ]
  },
  {
   "cell_type": "code",
   "execution_count": 32,
   "id": "dec5963d",
   "metadata": {},
   "outputs": [
    {
     "name": "stdout",
     "output_type": "stream",
     "text": [
      "[4, 6]\n"
     ]
    }
   ],
   "source": [
    "def find_missing_numbers(numbers,n):\n",
    "    counts={}\n",
    "    \n",
    "    for num in numbers:\n",
    "        counts[num]=True\n",
    "        \n",
    "    missing=[]\n",
    "    \n",
    "    for i in range(1,n+1):\n",
    "        if i not in counts:\n",
    "            missing.append(i)\n",
    "            \n",
    "    return missing\n",
    "\n",
    "print(find_missing_numbers([2, 3, 7, 1, 5], 7))  "
   ]
  },
  {
   "cell_type": "code",
   "execution_count": 36,
   "id": "8d2a8ae5",
   "metadata": {},
   "outputs": [
    {
     "data": {
      "text/plain": [
       "{<function str.lower()>: ['apple', 'apricot'],\n",
       " <function str.lower()>: ['banana', 'blueberry'],\n",
       " <function str.lower()>: ['cherry']}"
      ]
     },
     "execution_count": 36,
     "metadata": {},
     "output_type": "execute_result"
    }
   ],
   "source": [
    "# Group words by first letter\n",
    "\n",
    "\n",
    "def grouped_words(words):\n",
    "    grouped={}\n",
    "    \n",
    "    for word in words:\n",
    "        first_letter=word[0].lower\n",
    "        \n",
    "        if first_letter in grouped:\n",
    "            grouped[first_letter].append(word)\n",
    "        else:\n",
    "            grouped[first_letter] = [word]\n",
    "            \n",
    "    return grouped\n",
    "        \n",
    "     \n",
    "grouped_words([\"apple\", \"apricot\", \"banana\", \"blueberry\", \"cherry\"])"
   ]
  },
  {
   "cell_type": "code",
   "execution_count": null,
   "id": "5dce090e",
   "metadata": {},
   "outputs": [],
   "source": []
  }
 ],
 "metadata": {
  "kernelspec": {
   "display_name": "Python 3 (ipykernel)",
   "language": "python",
   "name": "python3"
  },
  "language_info": {
   "codemirror_mode": {
    "name": "ipython",
    "version": 3
   },
   "file_extension": ".py",
   "mimetype": "text/x-python",
   "name": "python",
   "nbconvert_exporter": "python",
   "pygments_lexer": "ipython3",
   "version": "3.9.13"
  }
 },
 "nbformat": 4,
 "nbformat_minor": 5
}
